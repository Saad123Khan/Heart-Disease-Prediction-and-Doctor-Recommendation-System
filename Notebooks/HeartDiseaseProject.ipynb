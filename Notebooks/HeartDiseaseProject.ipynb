{
 "cells": [
  {
   "cell_type": "markdown",
   "id": "85838b66",
   "metadata": {},
   "source": [
    "## IMPORT LIBRARIES AND MODEL"
   ]
  },
  {
   "cell_type": "code",
   "execution_count": 2,
   "id": "c09854a7",
   "metadata": {},
   "outputs": [],
   "source": [
    "import pandas as pd\n",
    "import numpy as np\n",
    "from sklearn.linear_model import LogisticRegression\n",
    "from sklearn.metrics import accuracy_score\n",
    "from sklearn.model_selection import train_test_split "
   ]
  },
  {
   "cell_type": "markdown",
   "id": "16dc9d9a",
   "metadata": {},
   "source": [
    "## DATA GATHERING"
   ]
  },
  {
   "cell_type": "code",
   "execution_count": 3,
   "id": "1109f58a",
   "metadata": {},
   "outputs": [
    {
     "data": {
      "text/html": [
       "<div>\n",
       "<style scoped>\n",
       "    .dataframe tbody tr th:only-of-type {\n",
       "        vertical-align: middle;\n",
       "    }\n",
       "\n",
       "    .dataframe tbody tr th {\n",
       "        vertical-align: top;\n",
       "    }\n",
       "\n",
       "    .dataframe thead th {\n",
       "        text-align: right;\n",
       "    }\n",
       "</style>\n",
       "<table border=\"1\" class=\"dataframe\">\n",
       "  <thead>\n",
       "    <tr style=\"text-align: right;\">\n",
       "      <th></th>\n",
       "      <th>age</th>\n",
       "      <th>sex</th>\n",
       "      <th>cp</th>\n",
       "      <th>trestbps</th>\n",
       "      <th>chol</th>\n",
       "      <th>fbs</th>\n",
       "      <th>restecg</th>\n",
       "      <th>thalach</th>\n",
       "      <th>exang</th>\n",
       "      <th>oldpeak</th>\n",
       "      <th>slope</th>\n",
       "      <th>ca</th>\n",
       "      <th>thal</th>\n",
       "      <th>target</th>\n",
       "    </tr>\n",
       "  </thead>\n",
       "  <tbody>\n",
       "    <tr>\n",
       "      <th>0</th>\n",
       "      <td>52</td>\n",
       "      <td>1</td>\n",
       "      <td>0</td>\n",
       "      <td>125</td>\n",
       "      <td>212</td>\n",
       "      <td>0</td>\n",
       "      <td>1</td>\n",
       "      <td>168</td>\n",
       "      <td>0</td>\n",
       "      <td>1.0</td>\n",
       "      <td>2</td>\n",
       "      <td>2</td>\n",
       "      <td>3</td>\n",
       "      <td>0</td>\n",
       "    </tr>\n",
       "    <tr>\n",
       "      <th>1</th>\n",
       "      <td>53</td>\n",
       "      <td>1</td>\n",
       "      <td>0</td>\n",
       "      <td>140</td>\n",
       "      <td>203</td>\n",
       "      <td>1</td>\n",
       "      <td>0</td>\n",
       "      <td>155</td>\n",
       "      <td>1</td>\n",
       "      <td>3.1</td>\n",
       "      <td>0</td>\n",
       "      <td>0</td>\n",
       "      <td>3</td>\n",
       "      <td>0</td>\n",
       "    </tr>\n",
       "    <tr>\n",
       "      <th>2</th>\n",
       "      <td>70</td>\n",
       "      <td>1</td>\n",
       "      <td>0</td>\n",
       "      <td>145</td>\n",
       "      <td>174</td>\n",
       "      <td>0</td>\n",
       "      <td>1</td>\n",
       "      <td>125</td>\n",
       "      <td>1</td>\n",
       "      <td>2.6</td>\n",
       "      <td>0</td>\n",
       "      <td>0</td>\n",
       "      <td>3</td>\n",
       "      <td>0</td>\n",
       "    </tr>\n",
       "    <tr>\n",
       "      <th>3</th>\n",
       "      <td>61</td>\n",
       "      <td>1</td>\n",
       "      <td>0</td>\n",
       "      <td>148</td>\n",
       "      <td>203</td>\n",
       "      <td>0</td>\n",
       "      <td>1</td>\n",
       "      <td>161</td>\n",
       "      <td>0</td>\n",
       "      <td>0.0</td>\n",
       "      <td>2</td>\n",
       "      <td>1</td>\n",
       "      <td>3</td>\n",
       "      <td>0</td>\n",
       "    </tr>\n",
       "    <tr>\n",
       "      <th>4</th>\n",
       "      <td>62</td>\n",
       "      <td>0</td>\n",
       "      <td>0</td>\n",
       "      <td>138</td>\n",
       "      <td>294</td>\n",
       "      <td>1</td>\n",
       "      <td>1</td>\n",
       "      <td>106</td>\n",
       "      <td>0</td>\n",
       "      <td>1.9</td>\n",
       "      <td>1</td>\n",
       "      <td>3</td>\n",
       "      <td>2</td>\n",
       "      <td>0</td>\n",
       "    </tr>\n",
       "  </tbody>\n",
       "</table>\n",
       "</div>"
      ],
      "text/plain": [
       "   age  sex  cp  trestbps  chol  fbs  restecg  thalach  exang  oldpeak  slope  \\\n",
       "0   52    1   0       125   212    0        1      168      0      1.0      2   \n",
       "1   53    1   0       140   203    1        0      155      1      3.1      0   \n",
       "2   70    1   0       145   174    0        1      125      1      2.6      0   \n",
       "3   61    1   0       148   203    0        1      161      0      0.0      2   \n",
       "4   62    0   0       138   294    1        1      106      0      1.9      1   \n",
       "\n",
       "   ca  thal  target  \n",
       "0   2     3       0  \n",
       "1   0     3       0  \n",
       "2   0     3       0  \n",
       "3   1     3       0  \n",
       "4   3     2       0  "
      ]
     },
     "execution_count": 3,
     "metadata": {},
     "output_type": "execute_result"
    }
   ],
   "source": [
    "heart = pd.read_csv(\"E:\\Dataset\\heart.csv\")\n",
    "heart.head()"
   ]
  },
  {
   "cell_type": "markdown",
   "id": "1bcb2161",
   "metadata": {},
   "source": [
    "## DATA PROCESSING"
   ]
  },
  {
   "cell_type": "code",
   "execution_count": 4,
   "id": "e235a568",
   "metadata": {},
   "outputs": [
    {
     "data": {
      "text/plain": [
       "(1025, 14)"
      ]
     },
     "execution_count": 4,
     "metadata": {},
     "output_type": "execute_result"
    }
   ],
   "source": [
    "#CHECKED NUMBER OF ROWS AND COLUMNS\n",
    "heart.shape"
   ]
  },
  {
   "cell_type": "code",
   "execution_count": 180,
   "id": "15a2b4e0",
   "metadata": {},
   "outputs": [
    {
     "name": "stdout",
     "output_type": "stream",
     "text": [
      "<class 'pandas.core.frame.DataFrame'>\n",
      "RangeIndex: 1025 entries, 0 to 1024\n",
      "Data columns (total 14 columns):\n",
      " #   Column    Non-Null Count  Dtype  \n",
      "---  ------    --------------  -----  \n",
      " 0   age       1025 non-null   int64  \n",
      " 1   sex       1025 non-null   int64  \n",
      " 2   cp        1025 non-null   int64  \n",
      " 3   trestbps  1025 non-null   int64  \n",
      " 4   chol      1025 non-null   int64  \n",
      " 5   fbs       1025 non-null   int64  \n",
      " 6   restecg   1025 non-null   int64  \n",
      " 7   thalach   1025 non-null   int64  \n",
      " 8   exang     1025 non-null   int64  \n",
      " 9   oldpeak   1025 non-null   float64\n",
      " 10  slope     1025 non-null   int64  \n",
      " 11  ca        1025 non-null   int64  \n",
      " 12  thal      1025 non-null   int64  \n",
      " 13  target    1025 non-null   int64  \n",
      "dtypes: float64(1), int64(13)\n",
      "memory usage: 112.2 KB\n"
     ]
    }
   ],
   "source": [
    "# Getting some info about the dataset\n",
    "\n",
    "heart.info()"
   ]
  },
  {
   "cell_type": "code",
   "execution_count": 181,
   "id": "8d308425",
   "metadata": {},
   "outputs": [
    {
     "data": {
      "text/plain": [
       "age         0\n",
       "sex         0\n",
       "cp          0\n",
       "trestbps    0\n",
       "chol        0\n",
       "fbs         0\n",
       "restecg     0\n",
       "thalach     0\n",
       "exang       0\n",
       "oldpeak     0\n",
       "slope       0\n",
       "ca          0\n",
       "thal        0\n",
       "target      0\n",
       "dtype: int64"
      ]
     },
     "execution_count": 181,
     "metadata": {},
     "output_type": "execute_result"
    }
   ],
   "source": [
    "# Checking for missing values in dataset\n",
    "heart.isnull().sum()"
   ]
  },
  {
   "cell_type": "code",
   "execution_count": 182,
   "id": "43ded96f",
   "metadata": {},
   "outputs": [
    {
     "data": {
      "text/plain": [
       "0.0    14\n",
       "dtype: int64"
      ]
     },
     "execution_count": 182,
     "metadata": {},
     "output_type": "execute_result"
    }
   ],
   "source": [
    "heart.isnull().mean().value_counts()"
   ]
  },
  {
   "cell_type": "code",
   "execution_count": 183,
   "id": "7c2fa5cb",
   "metadata": {},
   "outputs": [
    {
     "data": {
      "text/html": [
       "<div>\n",
       "<style scoped>\n",
       "    .dataframe tbody tr th:only-of-type {\n",
       "        vertical-align: middle;\n",
       "    }\n",
       "\n",
       "    .dataframe tbody tr th {\n",
       "        vertical-align: top;\n",
       "    }\n",
       "\n",
       "    .dataframe thead th {\n",
       "        text-align: right;\n",
       "    }\n",
       "</style>\n",
       "<table border=\"1\" class=\"dataframe\">\n",
       "  <thead>\n",
       "    <tr style=\"text-align: right;\">\n",
       "      <th></th>\n",
       "      <th>age</th>\n",
       "      <th>sex</th>\n",
       "      <th>cp</th>\n",
       "      <th>trestbps</th>\n",
       "      <th>chol</th>\n",
       "      <th>fbs</th>\n",
       "      <th>restecg</th>\n",
       "      <th>thalach</th>\n",
       "      <th>exang</th>\n",
       "      <th>oldpeak</th>\n",
       "      <th>slope</th>\n",
       "      <th>ca</th>\n",
       "      <th>thal</th>\n",
       "      <th>target</th>\n",
       "    </tr>\n",
       "  </thead>\n",
       "  <tbody>\n",
       "    <tr>\n",
       "      <th>count</th>\n",
       "      <td>1025.000000</td>\n",
       "      <td>1025.000000</td>\n",
       "      <td>1025.000000</td>\n",
       "      <td>1025.000000</td>\n",
       "      <td>1025.00000</td>\n",
       "      <td>1025.000000</td>\n",
       "      <td>1025.000000</td>\n",
       "      <td>1025.000000</td>\n",
       "      <td>1025.000000</td>\n",
       "      <td>1025.000000</td>\n",
       "      <td>1025.000000</td>\n",
       "      <td>1025.000000</td>\n",
       "      <td>1025.000000</td>\n",
       "      <td>1025.000000</td>\n",
       "    </tr>\n",
       "    <tr>\n",
       "      <th>mean</th>\n",
       "      <td>54.434146</td>\n",
       "      <td>0.695610</td>\n",
       "      <td>0.942439</td>\n",
       "      <td>131.611707</td>\n",
       "      <td>246.00000</td>\n",
       "      <td>0.149268</td>\n",
       "      <td>0.529756</td>\n",
       "      <td>149.114146</td>\n",
       "      <td>0.336585</td>\n",
       "      <td>1.071512</td>\n",
       "      <td>1.385366</td>\n",
       "      <td>0.754146</td>\n",
       "      <td>2.323902</td>\n",
       "      <td>0.513171</td>\n",
       "    </tr>\n",
       "    <tr>\n",
       "      <th>std</th>\n",
       "      <td>9.072290</td>\n",
       "      <td>0.460373</td>\n",
       "      <td>1.029641</td>\n",
       "      <td>17.516718</td>\n",
       "      <td>51.59251</td>\n",
       "      <td>0.356527</td>\n",
       "      <td>0.527878</td>\n",
       "      <td>23.005724</td>\n",
       "      <td>0.472772</td>\n",
       "      <td>1.175053</td>\n",
       "      <td>0.617755</td>\n",
       "      <td>1.030798</td>\n",
       "      <td>0.620660</td>\n",
       "      <td>0.500070</td>\n",
       "    </tr>\n",
       "    <tr>\n",
       "      <th>min</th>\n",
       "      <td>29.000000</td>\n",
       "      <td>0.000000</td>\n",
       "      <td>0.000000</td>\n",
       "      <td>94.000000</td>\n",
       "      <td>126.00000</td>\n",
       "      <td>0.000000</td>\n",
       "      <td>0.000000</td>\n",
       "      <td>71.000000</td>\n",
       "      <td>0.000000</td>\n",
       "      <td>0.000000</td>\n",
       "      <td>0.000000</td>\n",
       "      <td>0.000000</td>\n",
       "      <td>0.000000</td>\n",
       "      <td>0.000000</td>\n",
       "    </tr>\n",
       "    <tr>\n",
       "      <th>25%</th>\n",
       "      <td>48.000000</td>\n",
       "      <td>0.000000</td>\n",
       "      <td>0.000000</td>\n",
       "      <td>120.000000</td>\n",
       "      <td>211.00000</td>\n",
       "      <td>0.000000</td>\n",
       "      <td>0.000000</td>\n",
       "      <td>132.000000</td>\n",
       "      <td>0.000000</td>\n",
       "      <td>0.000000</td>\n",
       "      <td>1.000000</td>\n",
       "      <td>0.000000</td>\n",
       "      <td>2.000000</td>\n",
       "      <td>0.000000</td>\n",
       "    </tr>\n",
       "    <tr>\n",
       "      <th>50%</th>\n",
       "      <td>56.000000</td>\n",
       "      <td>1.000000</td>\n",
       "      <td>1.000000</td>\n",
       "      <td>130.000000</td>\n",
       "      <td>240.00000</td>\n",
       "      <td>0.000000</td>\n",
       "      <td>1.000000</td>\n",
       "      <td>152.000000</td>\n",
       "      <td>0.000000</td>\n",
       "      <td>0.800000</td>\n",
       "      <td>1.000000</td>\n",
       "      <td>0.000000</td>\n",
       "      <td>2.000000</td>\n",
       "      <td>1.000000</td>\n",
       "    </tr>\n",
       "    <tr>\n",
       "      <th>75%</th>\n",
       "      <td>61.000000</td>\n",
       "      <td>1.000000</td>\n",
       "      <td>2.000000</td>\n",
       "      <td>140.000000</td>\n",
       "      <td>275.00000</td>\n",
       "      <td>0.000000</td>\n",
       "      <td>1.000000</td>\n",
       "      <td>166.000000</td>\n",
       "      <td>1.000000</td>\n",
       "      <td>1.800000</td>\n",
       "      <td>2.000000</td>\n",
       "      <td>1.000000</td>\n",
       "      <td>3.000000</td>\n",
       "      <td>1.000000</td>\n",
       "    </tr>\n",
       "    <tr>\n",
       "      <th>max</th>\n",
       "      <td>77.000000</td>\n",
       "      <td>1.000000</td>\n",
       "      <td>3.000000</td>\n",
       "      <td>200.000000</td>\n",
       "      <td>564.00000</td>\n",
       "      <td>1.000000</td>\n",
       "      <td>2.000000</td>\n",
       "      <td>202.000000</td>\n",
       "      <td>1.000000</td>\n",
       "      <td>6.200000</td>\n",
       "      <td>2.000000</td>\n",
       "      <td>4.000000</td>\n",
       "      <td>3.000000</td>\n",
       "      <td>1.000000</td>\n",
       "    </tr>\n",
       "  </tbody>\n",
       "</table>\n",
       "</div>"
      ],
      "text/plain": [
       "               age          sex           cp     trestbps        chol  \\\n",
       "count  1025.000000  1025.000000  1025.000000  1025.000000  1025.00000   \n",
       "mean     54.434146     0.695610     0.942439   131.611707   246.00000   \n",
       "std       9.072290     0.460373     1.029641    17.516718    51.59251   \n",
       "min      29.000000     0.000000     0.000000    94.000000   126.00000   \n",
       "25%      48.000000     0.000000     0.000000   120.000000   211.00000   \n",
       "50%      56.000000     1.000000     1.000000   130.000000   240.00000   \n",
       "75%      61.000000     1.000000     2.000000   140.000000   275.00000   \n",
       "max      77.000000     1.000000     3.000000   200.000000   564.00000   \n",
       "\n",
       "               fbs      restecg      thalach        exang      oldpeak  \\\n",
       "count  1025.000000  1025.000000  1025.000000  1025.000000  1025.000000   \n",
       "mean      0.149268     0.529756   149.114146     0.336585     1.071512   \n",
       "std       0.356527     0.527878    23.005724     0.472772     1.175053   \n",
       "min       0.000000     0.000000    71.000000     0.000000     0.000000   \n",
       "25%       0.000000     0.000000   132.000000     0.000000     0.000000   \n",
       "50%       0.000000     1.000000   152.000000     0.000000     0.800000   \n",
       "75%       0.000000     1.000000   166.000000     1.000000     1.800000   \n",
       "max       1.000000     2.000000   202.000000     1.000000     6.200000   \n",
       "\n",
       "             slope           ca         thal       target  \n",
       "count  1025.000000  1025.000000  1025.000000  1025.000000  \n",
       "mean      1.385366     0.754146     2.323902     0.513171  \n",
       "std       0.617755     1.030798     0.620660     0.500070  \n",
       "min       0.000000     0.000000     0.000000     0.000000  \n",
       "25%       1.000000     0.000000     2.000000     0.000000  \n",
       "50%       1.000000     0.000000     2.000000     1.000000  \n",
       "75%       2.000000     1.000000     3.000000     1.000000  \n",
       "max       2.000000     4.000000     3.000000     1.000000  "
      ]
     },
     "execution_count": 183,
     "metadata": {},
     "output_type": "execute_result"
    }
   ],
   "source": [
    "# Statistics measures of data\n",
    "heart.describe()"
   ]
  },
  {
   "cell_type": "code",
   "execution_count": 10,
   "id": "98c6b0dc",
   "metadata": {},
   "outputs": [
    {
     "data": {
      "text/plain": [
       "1    526\n",
       "0    499\n",
       "Name: target, dtype: int64"
      ]
     },
     "execution_count": 10,
     "metadata": {},
     "output_type": "execute_result"
    }
   ],
   "source": [
    "#checking the distribution of target  variables\n",
    "heart['target'].value_counts() "
   ]
  },
  {
   "cell_type": "code",
   "execution_count": 11,
   "id": "a593a9dd",
   "metadata": {},
   "outputs": [],
   "source": [
    "#Understanding data\n",
    "#529 people in our dataseet have heart disease and 499 people has not heart disease"
   ]
  },
  {
   "cell_type": "code",
   "execution_count": 184,
   "id": "79baf097",
   "metadata": {},
   "outputs": [
    {
     "name": "stdout",
     "output_type": "stream",
     "text": [
      "      age  sex  cp  trestbps  chol  fbs  restecg  thalach  exang  oldpeak  \\\n",
      "0      52    1   0       125   212    0        1      168      0      1.0   \n",
      "1      53    1   0       140   203    1        0      155      1      3.1   \n",
      "2      70    1   0       145   174    0        1      125      1      2.6   \n",
      "3      61    1   0       148   203    0        1      161      0      0.0   \n",
      "4      62    0   0       138   294    1        1      106      0      1.9   \n",
      "...   ...  ...  ..       ...   ...  ...      ...      ...    ...      ...   \n",
      "1020   59    1   1       140   221    0        1      164      1      0.0   \n",
      "1021   60    1   0       125   258    0        0      141      1      2.8   \n",
      "1022   47    1   0       110   275    0        0      118      1      1.0   \n",
      "1023   50    0   0       110   254    0        0      159      0      0.0   \n",
      "1024   54    1   0       120   188    0        1      113      0      1.4   \n",
      "\n",
      "      slope  ca  thal  \n",
      "0         2   2     3  \n",
      "1         0   0     3  \n",
      "2         0   0     3  \n",
      "3         2   1     3  \n",
      "4         1   3     2  \n",
      "...     ...  ..   ...  \n",
      "1020      2   0     2  \n",
      "1021      1   1     3  \n",
      "1022      1   1     2  \n",
      "1023      2   0     2  \n",
      "1024      1   1     3  \n",
      "\n",
      "[1025 rows x 13 columns]\n"
     ]
    }
   ],
   "source": [
    "X = heart.drop(columns = 'target' , axis = 1)\n",
    "y = heart['target']\n",
    "print(X)"
   ]
  },
  {
   "cell_type": "code",
   "execution_count": 185,
   "id": "7ea36a2e",
   "metadata": {},
   "outputs": [
    {
     "name": "stdout",
     "output_type": "stream",
     "text": [
      "0       0\n",
      "1       0\n",
      "2       0\n",
      "3       0\n",
      "4       0\n",
      "       ..\n",
      "1020    1\n",
      "1021    0\n",
      "1022    0\n",
      "1023    1\n",
      "1024    0\n",
      "Name: target, Length: 1025, dtype: int64\n"
     ]
    }
   ],
   "source": [
    "print(y)"
   ]
  },
  {
   "cell_type": "markdown",
   "id": "399ae3a8",
   "metadata": {},
   "source": [
    "## Splitting the data into Train data and Test data "
   ]
  },
  {
   "cell_type": "code",
   "execution_count": 186,
   "id": "de0060d7",
   "metadata": {},
   "outputs": [],
   "source": [
    "X_train,X_test,y_train,y_test = train_test_split(X,y,test_size=0.2,random_state=2,stratify=y) "
   ]
  },
  {
   "cell_type": "code",
   "execution_count": 187,
   "id": "be21e38a",
   "metadata": {},
   "outputs": [
    {
     "name": "stdout",
     "output_type": "stream",
     "text": [
      "X_train Data  (820, 13)\n",
      "Y_train Data  (820,)\n",
      "X_test Data (205, 13)\n",
      "y_test Data  (205,)\n"
     ]
    }
   ],
   "source": [
    "print(\"X_train Data \",X_train.shape)\n",
    "print(\"Y_train Data \",y_train.shape)\n",
    "print(\"X_test Data\",X_test.shape)\n",
    "print(\"y_test Data \",y_test.shape)\n"
   ]
  },
  {
   "cell_type": "markdown",
   "id": "f2936f42",
   "metadata": {},
   "source": [
    "## Model Training\n",
    "## Logistic Regression\n"
   ]
  },
  {
   "cell_type": "code",
   "execution_count": 188,
   "id": "878eacf1",
   "metadata": {},
   "outputs": [
    {
     "name": "stderr",
     "output_type": "stream",
     "text": [
      "c:\\Users\\fahad\\anaconda3\\lib\\site-packages\\sklearn\\linear_model\\_logistic.py:444: ConvergenceWarning: lbfgs failed to converge (status=1):\n",
      "STOP: TOTAL NO. of ITERATIONS REACHED LIMIT.\n",
      "\n",
      "Increase the number of iterations (max_iter) or scale the data as shown in:\n",
      "    https://scikit-learn.org/stable/modules/preprocessing.html\n",
      "Please also refer to the documentation for alternative solver options:\n",
      "    https://scikit-learn.org/stable/modules/linear_model.html#logistic-regression\n",
      "  n_iter_i = _check_optimize_result(\n"
     ]
    },
    {
     "data": {
      "text/html": [
       "<style>#sk-container-id-2 {color: black;background-color: white;}#sk-container-id-2 pre{padding: 0;}#sk-container-id-2 div.sk-toggleable {background-color: white;}#sk-container-id-2 label.sk-toggleable__label {cursor: pointer;display: block;width: 100%;margin-bottom: 0;padding: 0.3em;box-sizing: border-box;text-align: center;}#sk-container-id-2 label.sk-toggleable__label-arrow:before {content: \"▸\";float: left;margin-right: 0.25em;color: #696969;}#sk-container-id-2 label.sk-toggleable__label-arrow:hover:before {color: black;}#sk-container-id-2 div.sk-estimator:hover label.sk-toggleable__label-arrow:before {color: black;}#sk-container-id-2 div.sk-toggleable__content {max-height: 0;max-width: 0;overflow: hidden;text-align: left;background-color: #f0f8ff;}#sk-container-id-2 div.sk-toggleable__content pre {margin: 0.2em;color: black;border-radius: 0.25em;background-color: #f0f8ff;}#sk-container-id-2 input.sk-toggleable__control:checked~div.sk-toggleable__content {max-height: 200px;max-width: 100%;overflow: auto;}#sk-container-id-2 input.sk-toggleable__control:checked~label.sk-toggleable__label-arrow:before {content: \"▾\";}#sk-container-id-2 div.sk-estimator input.sk-toggleable__control:checked~label.sk-toggleable__label {background-color: #d4ebff;}#sk-container-id-2 div.sk-label input.sk-toggleable__control:checked~label.sk-toggleable__label {background-color: #d4ebff;}#sk-container-id-2 input.sk-hidden--visually {border: 0;clip: rect(1px 1px 1px 1px);clip: rect(1px, 1px, 1px, 1px);height: 1px;margin: -1px;overflow: hidden;padding: 0;position: absolute;width: 1px;}#sk-container-id-2 div.sk-estimator {font-family: monospace;background-color: #f0f8ff;border: 1px dotted black;border-radius: 0.25em;box-sizing: border-box;margin-bottom: 0.5em;}#sk-container-id-2 div.sk-estimator:hover {background-color: #d4ebff;}#sk-container-id-2 div.sk-parallel-item::after {content: \"\";width: 100%;border-bottom: 1px solid gray;flex-grow: 1;}#sk-container-id-2 div.sk-label:hover label.sk-toggleable__label {background-color: #d4ebff;}#sk-container-id-2 div.sk-serial::before {content: \"\";position: absolute;border-left: 1px solid gray;box-sizing: border-box;top: 0;bottom: 0;left: 50%;z-index: 0;}#sk-container-id-2 div.sk-serial {display: flex;flex-direction: column;align-items: center;background-color: white;padding-right: 0.2em;padding-left: 0.2em;position: relative;}#sk-container-id-2 div.sk-item {position: relative;z-index: 1;}#sk-container-id-2 div.sk-parallel {display: flex;align-items: stretch;justify-content: center;background-color: white;position: relative;}#sk-container-id-2 div.sk-item::before, #sk-container-id-2 div.sk-parallel-item::before {content: \"\";position: absolute;border-left: 1px solid gray;box-sizing: border-box;top: 0;bottom: 0;left: 50%;z-index: -1;}#sk-container-id-2 div.sk-parallel-item {display: flex;flex-direction: column;z-index: 1;position: relative;background-color: white;}#sk-container-id-2 div.sk-parallel-item:first-child::after {align-self: flex-end;width: 50%;}#sk-container-id-2 div.sk-parallel-item:last-child::after {align-self: flex-start;width: 50%;}#sk-container-id-2 div.sk-parallel-item:only-child::after {width: 0;}#sk-container-id-2 div.sk-dashed-wrapped {border: 1px dashed gray;margin: 0 0.4em 0.5em 0.4em;box-sizing: border-box;padding-bottom: 0.4em;background-color: white;}#sk-container-id-2 div.sk-label label {font-family: monospace;font-weight: bold;display: inline-block;line-height: 1.2em;}#sk-container-id-2 div.sk-label-container {text-align: center;}#sk-container-id-2 div.sk-container {/* jupyter's `normalize.less` sets `[hidden] { display: none; }` but bootstrap.min.css set `[hidden] { display: none !important; }` so we also need the `!important` here to be able to override the default hidden behavior on the sphinx rendered scikit-learn.org. See: https://github.com/scikit-learn/scikit-learn/issues/21755 */display: inline-block !important;position: relative;}#sk-container-id-2 div.sk-text-repr-fallback {display: none;}</style><div id=\"sk-container-id-2\" class=\"sk-top-container\"><div class=\"sk-text-repr-fallback\"><pre>LogisticRegression()</pre><b>In a Jupyter environment, please rerun this cell to show the HTML representation or trust the notebook. <br />On GitHub, the HTML representation is unable to render, please try loading this page with nbviewer.org.</b></div><div class=\"sk-container\" hidden><div class=\"sk-item\"><div class=\"sk-estimator sk-toggleable\"><input class=\"sk-toggleable__control sk-hidden--visually\" id=\"sk-estimator-id-2\" type=\"checkbox\" checked><label for=\"sk-estimator-id-2\" class=\"sk-toggleable__label sk-toggleable__label-arrow\">LogisticRegression</label><div class=\"sk-toggleable__content\"><pre>LogisticRegression()</pre></div></div></div></div></div>"
      ],
      "text/plain": [
       "LogisticRegression()"
      ]
     },
     "execution_count": 188,
     "metadata": {},
     "output_type": "execute_result"
    }
   ],
   "source": [
    "## training the logistic Regression model with train data\n",
    "model = LogisticRegression()\n",
    "model.fit(X_train,y_train)"
   ]
  },
  {
   "cell_type": "markdown",
   "id": "f5a78a6b",
   "metadata": {},
   "source": [
    "## Model Evaluation\n",
    "## Accuracy Score"
   ]
  },
  {
   "cell_type": "code",
   "execution_count": 189,
   "id": "dd3823c8",
   "metadata": {},
   "outputs": [
    {
     "name": "stdout",
     "output_type": "stream",
     "text": [
      "Accuracy on training Data :  0.8524390243902439\n"
     ]
    }
   ],
   "source": [
    "# Accuracy on training data\n",
    "X_train_Prediction = model.predict(X_train)\n",
    "training_data_accuracy = accuracy_score( X_train_Prediction , y_train )\n",
    "print(\"Accuracy on training Data : \",training_data_accuracy)\n"
   ]
  },
  {
   "cell_type": "code",
   "execution_count": 190,
   "id": "5e9f16db",
   "metadata": {},
   "outputs": [
    {
     "name": "stdout",
     "output_type": "stream",
     "text": [
      "Accuracy on test Data :  0.8048780487804879\n"
     ]
    }
   ],
   "source": [
    "# Accuracy on test data\n",
    "X_test_Prediction = model.predict(X_test)\n",
    "test_data_accuracy = accuracy_score( X_test_Prediction , y_test )\n",
    "print(\"Accuracy on test Data : \",test_data_accuracy)\n"
   ]
  },
  {
   "cell_type": "code",
   "execution_count": 191,
   "id": "d9ade6c3",
   "metadata": {},
   "outputs": [],
   "source": [
    "y_pred = model.predict(X_test)"
   ]
  },
  {
   "cell_type": "code",
   "execution_count": 192,
   "id": "08277e35",
   "metadata": {},
   "outputs": [],
   "source": [
    "#3 import Dump library to Model Deployement on Django\n",
    "from joblib import dump"
   ]
  },
  {
   "cell_type": "code",
   "execution_count": 193,
   "id": "35aa6dcb",
   "metadata": {},
   "outputs": [
    {
     "data": {
      "text/plain": [
       "['./../savedModels/model.joblib']"
      ]
     },
     "execution_count": 193,
     "metadata": {},
     "output_type": "execute_result"
    }
   ],
   "source": [
    "dump(model, './../savedModels/model.joblib')"
   ]
  },
  {
   "cell_type": "markdown",
   "id": "1f926f26",
   "metadata": {},
   "source": [
    "## Doctor Recommendation System"
   ]
  },
  {
   "cell_type": "markdown",
   "id": "7f7024aa",
   "metadata": {},
   "source": [
    "### This System based on customer location to predict the nearest doctor ."
   ]
  },
  {
   "cell_type": "markdown",
   "id": "b4acbc13",
   "metadata": {},
   "source": [
    "### Making Scratch Dataset About Doctor"
   ]
  },
  {
   "cell_type": "code",
   "execution_count": 13,
   "id": "c027938c",
   "metadata": {},
   "outputs": [],
   "source": [
    "import numpy as np\n",
    "import pandas as pd\n",
    "import difflib\n",
    "from sklearn.feature_extraction.text import TfidfVectorizer\n",
    "from sklearn.metrics.pairwise import cosine_similarity\n",
    "\n",
    "doctor_Location = np.array(['Karachi','Lahore','Islamabad','Peshawar','Multan','Quetta','Muree','Swat','Hyderabad'])[np.random.randint(0,9,50)]"
   ]
  },
  {
   "cell_type": "code",
   "execution_count": 14,
   "id": "4b182faa",
   "metadata": {},
   "outputs": [
    {
     "data": {
      "text/html": [
       "<div>\n",
       "<style scoped>\n",
       "    .dataframe tbody tr th:only-of-type {\n",
       "        vertical-align: middle;\n",
       "    }\n",
       "\n",
       "    .dataframe tbody tr th {\n",
       "        vertical-align: top;\n",
       "    }\n",
       "\n",
       "    .dataframe thead th {\n",
       "        text-align: right;\n",
       "    }\n",
       "</style>\n",
       "<table border=\"1\" class=\"dataframe\">\n",
       "  <thead>\n",
       "    <tr style=\"text-align: right;\">\n",
       "      <th></th>\n",
       "      <th>Doctor_Name</th>\n",
       "      <th>Gender</th>\n",
       "      <th>Image</th>\n",
       "      <th>Contact_No</th>\n",
       "    </tr>\n",
       "  </thead>\n",
       "  <tbody>\n",
       "    <tr>\n",
       "      <th>0</th>\n",
       "      <td>Dr Nasreen</td>\n",
       "      <td>Female</td>\n",
       "      <td>https://encrypted-tbn0.gstatic.com/images?q=tb...</td>\n",
       "      <td>4234567777</td>\n",
       "    </tr>\n",
       "    <tr>\n",
       "      <th>1</th>\n",
       "      <td>Dr Ali</td>\n",
       "      <td>Male</td>\n",
       "      <td>https://media.istockphoto.com/photos/indian-ma...</td>\n",
       "      <td>3315478547</td>\n",
       "    </tr>\n",
       "    <tr>\n",
       "      <th>2</th>\n",
       "      <td>Dr Hamza</td>\n",
       "      <td>Male</td>\n",
       "      <td>https://imonkey-blog.imgix.net/blog/wp-content...</td>\n",
       "      <td>3325874587</td>\n",
       "    </tr>\n",
       "    <tr>\n",
       "      <th>3</th>\n",
       "      <td>Dr Asma</td>\n",
       "      <td>Female</td>\n",
       "      <td>https://encrypted-tbn0.gstatic.com/images?q=tb...</td>\n",
       "      <td>3322685478</td>\n",
       "    </tr>\n",
       "    <tr>\n",
       "      <th>4</th>\n",
       "      <td>Dr Farah</td>\n",
       "      <td>Female</td>\n",
       "      <td>https://encrypted-tbn0.gstatic.com/images?q=tb...</td>\n",
       "      <td>3322578412</td>\n",
       "    </tr>\n",
       "  </tbody>\n",
       "</table>\n",
       "</div>"
      ],
      "text/plain": [
       "  Doctor_Name  Gender                                              Image  \\\n",
       "0  Dr Nasreen  Female  https://encrypted-tbn0.gstatic.com/images?q=tb...   \n",
       "1      Dr Ali    Male  https://media.istockphoto.com/photos/indian-ma...   \n",
       "2    Dr Hamza    Male  https://imonkey-blog.imgix.net/blog/wp-content...   \n",
       "3     Dr Asma  Female  https://encrypted-tbn0.gstatic.com/images?q=tb...   \n",
       "4    Dr Farah  Female  https://encrypted-tbn0.gstatic.com/images?q=tb...   \n",
       "\n",
       "   Contact_No  \n",
       "0  4234567777  \n",
       "1  3315478547  \n",
       "2  3325874587  \n",
       "3  3322685478  \n",
       "4  3322578412  "
      ]
     },
     "execution_count": 14,
     "metadata": {},
     "output_type": "execute_result"
    }
   ],
   "source": [
    "df = pd.read_excel(\"E:\\Dataset\\doctor.xlsx\")\n",
    "df.columns=['Doctor_Name','Gender','Image','Contact_No']\n",
    "df.head()"
   ]
  },
  {
   "cell_type": "code",
   "execution_count": 15,
   "metadata": {},
   "outputs": [
    {
     "data": {
      "text/plain": [
       "50"
      ]
     },
     "execution_count": 15,
     "metadata": {},
     "output_type": "execute_result"
    }
   ],
   "source": [
    "df.value_counts().sum()"
   ]
  },
  {
   "cell_type": "code",
   "execution_count": 16,
   "id": "3bc44092",
   "metadata": {},
   "outputs": [],
   "source": [
    "doctor_Age = np.array(np.random.randint(24,100,50))"
   ]
  },
  {
   "cell_type": "code",
   "execution_count": 17,
   "id": "2495f58c",
   "metadata": {},
   "outputs": [],
   "source": [
    "doctor_Qualification = np.array(['MBBS_Cardiologist_Specialist'])[np.random.randint(0,1,50)]"
   ]
  },
  {
   "cell_type": "code",
   "execution_count": 18,
   "id": "7c363121",
   "metadata": {},
   "outputs": [
    {
     "data": {
      "text/plain": [
       "array([ 0,  1,  2,  3,  4,  5,  6,  7,  8,  9, 10, 11, 12, 13, 14, 15, 16,\n",
       "       17, 18, 19, 20, 21, 22, 23, 24, 25, 26, 27, 28, 29, 30, 31, 32, 33,\n",
       "       34, 35, 36, 37, 38, 39, 40, 41, 42, 43, 44, 45, 46, 47, 48, 49])"
      ]
     },
     "execution_count": 18,
     "metadata": {},
     "output_type": "execute_result"
    }
   ],
   "source": [
    "index = np.arange(0,50)\n",
    "index"
   ]
  },
  {
   "cell_type": "code",
   "execution_count": 19,
   "id": "28d43cf4",
   "metadata": {},
   "outputs": [],
   "source": [
    "df.insert(0,\"Index\",index,True)\n",
    "df.insert(3,\"Age\",doctor_Age,True)\n",
    "df.insert(6,\"Qualification\",doctor_Qualification,True)\n",
    "df.insert(7,\"Location\",doctor_Location,True)"
   ]
  },
  {
   "cell_type": "code",
   "execution_count": 20,
   "id": "e49aec62",
   "metadata": {},
   "outputs": [
    {
     "data": {
      "text/html": [
       "<div>\n",
       "<style scoped>\n",
       "    .dataframe tbody tr th:only-of-type {\n",
       "        vertical-align: middle;\n",
       "    }\n",
       "\n",
       "    .dataframe tbody tr th {\n",
       "        vertical-align: top;\n",
       "    }\n",
       "\n",
       "    .dataframe thead th {\n",
       "        text-align: right;\n",
       "    }\n",
       "</style>\n",
       "<table border=\"1\" class=\"dataframe\">\n",
       "  <thead>\n",
       "    <tr style=\"text-align: right;\">\n",
       "      <th></th>\n",
       "      <th>Index</th>\n",
       "      <th>Doctor_Name</th>\n",
       "      <th>Gender</th>\n",
       "      <th>Age</th>\n",
       "      <th>Image</th>\n",
       "      <th>Contact_No</th>\n",
       "      <th>Qualification</th>\n",
       "      <th>Location</th>\n",
       "    </tr>\n",
       "  </thead>\n",
       "  <tbody>\n",
       "    <tr>\n",
       "      <th>0</th>\n",
       "      <td>0</td>\n",
       "      <td>Dr Nasreen</td>\n",
       "      <td>Female</td>\n",
       "      <td>74</td>\n",
       "      <td>https://encrypted-tbn0.gstatic.com/images?q=tb...</td>\n",
       "      <td>4234567777</td>\n",
       "      <td>MBBS_Cardiologist_Specialist</td>\n",
       "      <td>Swat</td>\n",
       "    </tr>\n",
       "    <tr>\n",
       "      <th>1</th>\n",
       "      <td>1</td>\n",
       "      <td>Dr Ali</td>\n",
       "      <td>Male</td>\n",
       "      <td>79</td>\n",
       "      <td>https://media.istockphoto.com/photos/indian-ma...</td>\n",
       "      <td>3315478547</td>\n",
       "      <td>MBBS_Cardiologist_Specialist</td>\n",
       "      <td>Islamabad</td>\n",
       "    </tr>\n",
       "    <tr>\n",
       "      <th>2</th>\n",
       "      <td>2</td>\n",
       "      <td>Dr Hamza</td>\n",
       "      <td>Male</td>\n",
       "      <td>87</td>\n",
       "      <td>https://imonkey-blog.imgix.net/blog/wp-content...</td>\n",
       "      <td>3325874587</td>\n",
       "      <td>MBBS_Cardiologist_Specialist</td>\n",
       "      <td>Islamabad</td>\n",
       "    </tr>\n",
       "    <tr>\n",
       "      <th>3</th>\n",
       "      <td>3</td>\n",
       "      <td>Dr Asma</td>\n",
       "      <td>Female</td>\n",
       "      <td>47</td>\n",
       "      <td>https://encrypted-tbn0.gstatic.com/images?q=tb...</td>\n",
       "      <td>3322685478</td>\n",
       "      <td>MBBS_Cardiologist_Specialist</td>\n",
       "      <td>Quetta</td>\n",
       "    </tr>\n",
       "    <tr>\n",
       "      <th>4</th>\n",
       "      <td>4</td>\n",
       "      <td>Dr Farah</td>\n",
       "      <td>Female</td>\n",
       "      <td>64</td>\n",
       "      <td>https://encrypted-tbn0.gstatic.com/images?q=tb...</td>\n",
       "      <td>3322578412</td>\n",
       "      <td>MBBS_Cardiologist_Specialist</td>\n",
       "      <td>Multan</td>\n",
       "    </tr>\n",
       "  </tbody>\n",
       "</table>\n",
       "</div>"
      ],
      "text/plain": [
       "   Index Doctor_Name  Gender  Age  \\\n",
       "0      0  Dr Nasreen  Female   74   \n",
       "1      1      Dr Ali    Male   79   \n",
       "2      2    Dr Hamza    Male   87   \n",
       "3      3     Dr Asma  Female   47   \n",
       "4      4    Dr Farah  Female   64   \n",
       "\n",
       "                                               Image  Contact_No  \\\n",
       "0  https://encrypted-tbn0.gstatic.com/images?q=tb...  4234567777   \n",
       "1  https://media.istockphoto.com/photos/indian-ma...  3315478547   \n",
       "2  https://imonkey-blog.imgix.net/blog/wp-content...  3325874587   \n",
       "3  https://encrypted-tbn0.gstatic.com/images?q=tb...  3322685478   \n",
       "4  https://encrypted-tbn0.gstatic.com/images?q=tb...  3322578412   \n",
       "\n",
       "                  Qualification   Location  \n",
       "0  MBBS_Cardiologist_Specialist       Swat  \n",
       "1  MBBS_Cardiologist_Specialist  Islamabad  \n",
       "2  MBBS_Cardiologist_Specialist  Islamabad  \n",
       "3  MBBS_Cardiologist_Specialist     Quetta  \n",
       "4  MBBS_Cardiologist_Specialist     Multan  "
      ]
     },
     "execution_count": 20,
     "metadata": {},
     "output_type": "execute_result"
    }
   ],
   "source": [
    "df.head()"
   ]
  },
  {
   "cell_type": "code",
   "execution_count": 21,
   "id": "e1b69168",
   "metadata": {},
   "outputs": [
    {
     "data": {
      "text/plain": [
       "Index            0\n",
       "Doctor_Name      0\n",
       "Gender           0\n",
       "Age              0\n",
       "Image            0\n",
       "Contact_No       0\n",
       "Qualification    0\n",
       "Location         0\n",
       "dtype: int64"
      ]
     },
     "execution_count": 21,
     "metadata": {},
     "output_type": "execute_result"
    }
   ],
   "source": [
    "df.isnull().sum()"
   ]
  },
  {
   "cell_type": "code",
   "execution_count": 22,
   "id": "72ff0452",
   "metadata": {},
   "outputs": [
    {
     "data": {
      "text/plain": [
       "50"
      ]
     },
     "execution_count": 22,
     "metadata": {},
     "output_type": "execute_result"
    }
   ],
   "source": [
    "df.value_counts().sum()"
   ]
  },
  {
   "cell_type": "code",
   "execution_count": 23,
   "metadata": {},
   "outputs": [
    {
     "data": {
      "text/plain": [
       "0           Dr Nasreen Swat\n",
       "1          Dr Ali Islamabad\n",
       "2        Dr Hamza Islamabad\n",
       "3            Dr Asma Quetta\n",
       "4           Dr Farah Multan\n",
       "5      Dr Kashif  Islamabad\n",
       "6          Dr Ismail Lahore\n",
       "7            Dr Huma Lahore\n",
       "8           Dr Tanib Quetta\n",
       "9        Dr Sameer Peshawar\n",
       "10         Dr Rafy' Karachi\n",
       "11            Dr Ana Quetta\n",
       "12          Dr Hafsa Lahore\n",
       "13         Dr Rehan Karachi\n",
       "14     Dr Manahil Islamabad\n",
       "15      Dr Rahima Hyderabad\n",
       "16        Dr Fahad Peshawar\n",
       "17             Dr Ahad Swat\n",
       "18            Dr Noor Muree\n",
       "19         Dr Afsha Karachi\n",
       "20      Dr Huzaifa Peshawar\n",
       "21        Dr Saad Hyderabad\n",
       "22        Dr Ansha Peshawar\n",
       "23    Dr Sharjeel Islamabad\n",
       "24       Dr Rubab Islamabad\n",
       "25         Dr Amna Peshawar\n",
       "26     Dr Malaika Hyderabad\n",
       "27         Dr Ramsha Multan\n",
       "28        Dr Maham Peshawar\n",
       "29     Dr Faizyab Islamabad\n",
       "30      Dr Zohaib Islamabad\n",
       "31          Dr Anaya Quetta\n",
       "32          Dr Kainat Muree\n",
       "33           Dr Majid Muree\n",
       "34      Dr Wahaj  Islamabad\n",
       "35       Dr Maliha Peshawar\n",
       "36         Dr Kashaf Multan\n",
       "37         Dr Hammad Multan\n",
       "38           Dr Atiya Muree\n",
       "39            Dr Amir Muree\n",
       "40          Dr Affan Quetta\n",
       "41          Dr Samia Lahore\n",
       "42          Dr Duaa Karachi\n",
       "43         Dr Asad Peshawar\n",
       "44         Dr Sallar Multan\n",
       "45          Dr Faria Multan\n",
       "46          Dr Arham Quetta\n",
       "47         Dr Kashif Multan\n",
       "48        Dr Laiba Peshawar\n",
       "49     Dr Yasmeen Hyderabad\n",
       "dtype: object"
      ]
     },
     "execution_count": 23,
     "metadata": {},
     "output_type": "execute_result"
    }
   ],
   "source": [
    "combined_features = df['Doctor_Name']+' '+df['Location']\n",
    "combined_features"
   ]
  },
  {
   "cell_type": "code",
   "execution_count": 24,
   "id": "d529cd5b",
   "metadata": {},
   "outputs": [],
   "source": [
    "#converting the text data into feature extraction\n",
    "vectorizer = TfidfVectorizer()\n"
   ]
  },
  {
   "cell_type": "code",
   "execution_count": 25,
   "id": "045c4bb2",
   "metadata": {},
   "outputs": [
    {
     "name": "stdout",
     "output_type": "stream",
     "text": [
      "  (0, 54)\t0.6607032672283722\n",
      "  (0, 40)\t0.7305903561089229\n",
      "  (0, 13)\t0.17236276928151137\n",
      "  (1, 25)\t0.5168375396472056\n",
      "  (1, 3)\t0.8332094798739856\n",
      "  (1, 13)\t0.19657293877730378\n",
      "  (2, 21)\t0.8332094798739856\n",
      "  (2, 25)\t0.5168375396472056\n",
      "  (2, 13)\t0.19657293877730378\n",
      "  (3, 43)\t0.5654769115320893\n",
      "  (3, 11)\t0.8027269402690245\n",
      "  (3, 13)\t0.1893814190739406\n",
      "  (4, 38)\t0.5479026600459186\n",
      "  (4, 17)\t0.8141902089244116\n",
      "  (4, 13)\t0.19208586310873962\n",
      "  (5, 30)\t0.806207800445761\n",
      "  (5, 25)\t0.5529862395124981\n",
      "  (5, 13)\t0.21032166177128322\n",
      "  (6, 31)\t0.6065351759971543\n",
      "  (6, 26)\t0.7738132323563633\n",
      "  (6, 13)\t0.1825600222072127\n",
      "  (7, 22)\t0.7738132323563633\n",
      "  (7, 31)\t0.6065351759971543\n",
      "  (7, 13)\t0.1825600222072127\n",
      "  (8, 55)\t0.8027269402690245\n",
      "  :\t:\n",
      "  (41, 13)\t0.1825600222072127\n",
      "  (42, 14)\t0.7738132323563633\n",
      "  (42, 28)\t0.6065351759971543\n",
      "  (42, 13)\t0.1825600222072127\n",
      "  (43, 10)\t0.8332094798739856\n",
      "  (43, 42)\t0.5168375396472056\n",
      "  (43, 13)\t0.19657293877730378\n",
      "  (44, 50)\t0.8141902089244116\n",
      "  (44, 38)\t0.5479026600459186\n",
      "  (44, 13)\t0.19208586310873962\n",
      "  (45, 18)\t0.8141902089244116\n",
      "  (45, 38)\t0.5479026600459186\n",
      "  (45, 13)\t0.19208586310873962\n",
      "  (46, 9)\t0.8027269402690245\n",
      "  (46, 43)\t0.5654769115320893\n",
      "  (46, 13)\t0.1893814190739406\n",
      "  (47, 30)\t0.7852436571259499\n",
      "  (47, 38)\t0.584318250548907\n",
      "  (47, 13)\t0.20485258362766304\n",
      "  (48, 32)\t0.8332094798739856\n",
      "  (48, 42)\t0.5168375396472056\n",
      "  (48, 13)\t0.19657293877730378\n",
      "  (49, 57)\t0.7738132323563633\n",
      "  (49, 24)\t0.6065351759971543\n",
      "  (49, 13)\t0.1825600222072127\n"
     ]
    }
   ],
   "source": [
    "feature_vector = vectorizer.fit_transform(combined_features)\n",
    "print(feature_vector)"
   ]
  },
  {
   "cell_type": "code",
   "execution_count": 26,
   "id": "af2cf754",
   "metadata": {},
   "outputs": [],
   "source": [
    "## getting the similarity score using cosine similarity\n",
    "similarity = cosine_similarity(feature_vector)"
   ]
  },
  {
   "cell_type": "code",
   "execution_count": 27,
   "id": "53d186d8",
   "metadata": {},
   "outputs": [
    {
     "name": "stdout",
     "output_type": "stream",
     "text": [
      "[[1.         0.03388186 0.03388186 ... 0.03530896 0.03388186 0.03146655]\n",
      " [0.03388186 1.         0.30576196 ... 0.04026847 0.03864092 0.03588636]\n",
      " [0.03388186 0.30576196 1.         ... 0.04026847 0.03864092 0.03588636]\n",
      " ...\n",
      " [0.03530896 0.04026847 0.04026847 ... 1.         0.04026847 0.03739789]\n",
      " [0.03388186 0.03864092 0.03864092 ... 0.04026847 1.         0.03588636]\n",
      " [0.03146655 0.03588636 0.03588636 ... 0.03739789 0.03588636 1.        ]]\n"
     ]
    }
   ],
   "source": [
    "print(similarity)"
   ]
  },
  {
   "cell_type": "code",
   "execution_count": 28,
   "id": "82de6748",
   "metadata": {},
   "outputs": [
    {
     "name": "stdout",
     "output_type": "stream",
     "text": [
      "(50, 50)\n"
     ]
    }
   ],
   "source": [
    "print(similarity.shape)"
   ]
  },
  {
   "cell_type": "code",
   "execution_count": 29,
   "id": "192ed9d5",
   "metadata": {},
   "outputs": [],
   "source": [
    "# creating a list of all the location name given in the dataset\n",
    "\n",
    "# getting the location from the user"
   ]
  },
  {
   "cell_type": "code",
   "execution_count": 30,
   "id": "9d040bc9",
   "metadata": {},
   "outputs": [
    {
     "name": "stdout",
     "output_type": "stream",
     "text": [
      "['Swat', 'Islamabad', 'Islamabad', 'Quetta', 'Multan', 'Islamabad', 'Lahore', 'Lahore', 'Quetta', 'Peshawar', 'Karachi', 'Quetta', 'Lahore', 'Karachi', 'Islamabad', 'Hyderabad', 'Peshawar', 'Swat', 'Muree', 'Karachi', 'Peshawar', 'Hyderabad', 'Peshawar', 'Islamabad', 'Islamabad', 'Peshawar', 'Hyderabad', 'Multan', 'Peshawar', 'Islamabad', 'Islamabad', 'Quetta', 'Muree', 'Muree', 'Islamabad', 'Peshawar', 'Multan', 'Multan', 'Muree', 'Muree', 'Quetta', 'Lahore', 'Karachi', 'Peshawar', 'Multan', 'Multan', 'Quetta', 'Multan', 'Peshawar', 'Hyderabad']\n"
     ]
    }
   ],
   "source": [
    "list_of_all_location = df[\"Location\"].tolist()\n",
    "print(list_of_all_location)"
   ]
  },
  {
   "cell_type": "code",
   "execution_count": 31,
   "id": "b1473d11",
   "metadata": {},
   "outputs": [
    {
     "name": "stdout",
     "output_type": "stream",
     "text": [
      "['Hyderabad', 'Hyderabad', 'Hyderabad']\n"
     ]
    }
   ],
   "source": [
    "#finding the close match for the location name given by the user\n",
    "finding_close_match = difflib.get_close_matches('Hyderabad',list_of_all_location)\n",
    "print(finding_close_match)"
   ]
  },
  {
   "cell_type": "code",
   "execution_count": 32,
   "id": "733ff1c5",
   "metadata": {},
   "outputs": [
    {
     "name": "stdout",
     "output_type": "stream",
     "text": [
      "Hyderabad\n"
     ]
    }
   ],
   "source": [
    "close_match = finding_close_match[0]\n",
    "print(close_match)"
   ]
  },
  {
   "cell_type": "code",
   "execution_count": 33,
   "id": "a91a4239",
   "metadata": {},
   "outputs": [
    {
     "name": "stdout",
     "output_type": "stream",
     "text": [
      "15\n"
     ]
    }
   ],
   "source": [
    "#find the index of the doctor with location\n",
    "index_of_the_doctor = df[df.Location == close_match]['Index'].values[0]\n",
    "print(index_of_the_doctor)\n"
   ]
  },
  {
   "cell_type": "code",
   "execution_count": 34,
   "id": "75885e2a",
   "metadata": {},
   "outputs": [],
   "source": [
    "similarity_score = list(enumerate(similarity[index_of_the_doctor]))"
   ]
  },
  {
   "cell_type": "code",
   "execution_count": 35,
   "id": "16d6c75e",
   "metadata": {},
   "outputs": [
    {
     "name": "stdout",
     "output_type": "stream",
     "text": [
      "[(15, 1.0), (21, 0.401213081430197), (26, 0.401213081430197), (49, 0.401213081430197), (5, 0.038396327243623345), (47, 0.037397892216271066), (1, 0.03588636006852164), (2, 0.03588636006852164), (9, 0.03588636006852164), (14, 0.03588636006852164), (16, 0.03588636006852164), (20, 0.03588636006852164), (22, 0.03588636006852164), (23, 0.03588636006852164), (24, 0.03588636006852164), (25, 0.03588636006852164), (28, 0.03588636006852164), (29, 0.03588636006852164), (30, 0.03588636006852164), (34, 0.03588636006852164), (35, 0.03588636006852164), (43, 0.03588636006852164), (48, 0.03588636006852164), (4, 0.03506719943482313), (27, 0.03506719943482313), (36, 0.03506719943482313), (37, 0.03506719943482313), (44, 0.03506719943482313), (45, 0.03506719943482313), (3, 0.03457347607177206), (8, 0.03457347607177206), (11, 0.03457347607177206), (31, 0.03457347607177206), (40, 0.03457347607177206), (46, 0.03457347607177206), (18, 0.0340024645282669), (32, 0.0340024645282669), (33, 0.0340024645282669), (38, 0.0340024645282669), (39, 0.0340024645282669), (6, 0.033328161708298), (7, 0.033328161708298), (10, 0.033328161708298), (12, 0.033328161708298), (13, 0.033328161708298), (19, 0.033328161708298), (41, 0.033328161708298), (42, 0.033328161708298), (0, 0.031466550987729394), (17, 0.031466550987729394)]\n"
     ]
    }
   ],
   "source": [
    "#Sorting the location  based on their similarity score\n",
    "\n",
    "sorted_similar_location = sorted(similarity_score , key = lambda x:x[1], reverse = True)\n",
    "print(sorted_similar_location) "
   ]
  },
  {
   "cell_type": "code",
   "execution_count": 36,
   "id": "4714fbc7",
   "metadata": {},
   "outputs": [
    {
     "name": "stdout",
     "output_type": "stream",
     "text": [
      "Doctors Suggested For You : \n",
      "\n",
      "1 . Dr Rahima\n",
      "2 . Dr Saad\n",
      "3 . Dr Malaika\n",
      "4 . Dr Yasmeen\n",
      "5 . Dr Kashif \n",
      "6 . Dr Kashif\n",
      "7 . Dr Ali\n",
      "8 . Dr Hamza\n"
     ]
    }
   ],
   "source": [
    "#print the name of the similar location based on the index\n",
    "print(\"Doctors Suggested For You : \\n\") \n",
    "i = 1\n",
    "for title in sorted_similar_location:\n",
    "    index = title[0]\n",
    "    Name_of_index = df[df.index == index]['Doctor_Name'].values[0]\n",
    "    if( i<=8):\n",
    "        print(i , \".\" , Name_of_index)\n",
    "        i+=1"
   ]
  },
  {
   "cell_type": "code",
   "execution_count": 37,
   "id": "1e4b55e1",
   "metadata": {},
   "outputs": [],
   "source": [
    "##Recommendation System\n",
    "def recommendation(patient_location):\n",
    "\n",
    "    list_of_all_location = df['Location'].tolist()\n",
    "    finding_close_match = difflib.get_close_matches(patient_location,list_of_all_location)\n",
    "    close_match = finding_close_match[0]\n",
    "    index_of_the_doctor = df[df.Location == close_match]['Index'].values[0]\n",
    "    similarity_score = list(enumerate(similarity[index_of_the_doctor]))\n",
    "    sorted_similar_location = sorted(similarity_score , key = lambda x:x[1], reverse = True)\n",
    "    \n",
    "    data = []\n",
    "    i = 1\n",
    "    for title in sorted_similar_location:\n",
    "         index = title[0]\n",
    "\n",
    "         Name_Index = df[df.index == index]['Doctor_Name'].values[0]\n",
    "         Gender_Index = df[df.index == index]['Gender'].values[0] \n",
    "         Age_Index = df[df.index == index]['Age'].values[0]\n",
    "         Contact_Index = df[df.index == index]['Contact_No'].values[0] \n",
    "         Qualification_Index = df[df.index == index]['Qualification'].values[0]\n",
    "         Location_Index = df[df.index == index]['Location'].values[0] \n",
    "         Image_Index = df[df.index == index]['Image'].values[0] \n",
    "         \n",
    "         item = []\n",
    "         if( i<=8):\n",
    "             print(i,Name_Index,Gender_Index,Age_Index,Contact_Index,Qualification_Index,Location_Index,Image_Index)\n",
    "             item.append(Name_Index)\n",
    "             item.append(Gender_Index)\n",
    "             item.append(Age_Index)\n",
    "             item.append(Contact_Index)\n",
    "             item.append(Qualification_Index)\n",
    "             item.append(Location_Index)   \n",
    "             item.append(Image_Index)\n",
    "            \n",
    "             data.append(item)\n",
    "             i+=1\n",
    "    return data       "
   ]
  },
  {
   "cell_type": "code",
   "execution_count": 38,
   "id": "219be75b",
   "metadata": {},
   "outputs": [
    {
     "name": "stdout",
     "output_type": "stream",
     "text": [
      "1 Dr Farah Female 64 3322578412 MBBS_Cardiologist_Specialist Multan https://encrypted-tbn0.gstatic.com/images?q=tbn:ANd9GcQjy54R-AknqoLrtu3k3LQffRll6BXm7y1YdTzjWdS34tQz2UrwKFlLaKEheFV3pmurMxs&usqp=CAU\n",
      "2 Dr Kashif Male 37 3365687412 MBBS_Cardiologist_Specialist Multan https://encrypted-tbn0.gstatic.com/images?q=tbn:ANd9GcRZM1dQ8crjbgC40Zw_c69n9ppCe63Lm6H4JhQMB8InLV_5Lv0NyXr2GSKWpbzQxT2ZEWU&usqp=CAU\n",
      "3 Dr Ramsha Female 62 3369874587 MBBS_Cardiologist_Specialist Multan https://encrypted-tbn0.gstatic.com/images?q=tbn:ANd9GcRI0zZ0HTExM_4lbMI84sR7rXvwOOliI_kKNw&usqp=CAU\n",
      "4 Dr Kashaf Female 83 3366545120 MBBS_Cardiologist_Specialist Multan data:image/jpeg;base64,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\n",
      "5 Dr Hammad Male 97 3369856784 MBBS_Cardiologist_Specialist Multan https://st2.depositphotos.com/1005682/5941/i/950/depositphotos_59417187-stock-photo-indian-male-doctor-outdoor.jpg\n",
      "6 Dr Sallar Male 43 3322545874 MBBS_Cardiologist_Specialist Multan https://thumbs.dreamstime.com/b/smiling-young-handsome-professional-male-doctor-looking-distance-glasses-white-coat-standing-indoors-folded-arms-210579226.jpg\n",
      "7 Dr Faria Female 84 3366545120 MBBS_Cardiologist_Specialist Multan data:image/jpeg;base64,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\n",
      "8 Dr Kashif  Male 68 3366585874 MBBS_Cardiologist_Specialist Islamabad https://media.istockphoto.com/photos/pakistani-ethnicity-male-doctor-looking-away-outdoors-picture-id182709887\n"
     ]
    },
    {
     "data": {
      "text/plain": [
       "[['Dr Farah',\n",
       "  'Female',\n",
       "  64,\n",
       "  3322578412,\n",
       "  'MBBS_Cardiologist_Specialist',\n",
       "  'Multan',\n",
       "  'https://encrypted-tbn0.gstatic.com/images?q=tbn:ANd9GcQjy54R-AknqoLrtu3k3LQffRll6BXm7y1YdTzjWdS34tQz2UrwKFlLaKEheFV3pmurMxs&usqp=CAU'],\n",
       " ['Dr Kashif',\n",
       "  'Male',\n",
       "  37,\n",
       "  3365687412,\n",
       "  'MBBS_Cardiologist_Specialist',\n",
       "  'Multan',\n",
       "  'https://encrypted-tbn0.gstatic.com/images?q=tbn:ANd9GcRZM1dQ8crjbgC40Zw_c69n9ppCe63Lm6H4JhQMB8InLV_5Lv0NyXr2GSKWpbzQxT2ZEWU&usqp=CAU'],\n",
       " ['Dr Ramsha',\n",
       "  'Female',\n",
       "  62,\n",
       "  3369874587,\n",
       "  'MBBS_Cardiologist_Specialist',\n",
       "  'Multan',\n",
       "  'https://encrypted-tbn0.gstatic.com/images?q=tbn:ANd9GcRI0zZ0HTExM_4lbMI84sR7rXvwOOliI_kKNw&usqp=CAU'],\n",
       " ['Dr Kashaf',\n",
       "  'Female',\n",
       "  83,\n",
       "  3366545120,\n",
       "  'MBBS_Cardiologist_Specialist',\n",
       "  'Multan',\n",
       "  'data:image/jpeg;base64,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'],\n",
       " ['Dr Hammad',\n",
       "  'Male',\n",
       "  97,\n",
       "  3369856784,\n",
       "  'MBBS_Cardiologist_Specialist',\n",
       "  'Multan',\n",
       "  'https://st2.depositphotos.com/1005682/5941/i/950/depositphotos_59417187-stock-photo-indian-male-doctor-outdoor.jpg'],\n",
       " ['Dr Sallar',\n",
       "  'Male',\n",
       "  43,\n",
       "  3322545874,\n",
       "  'MBBS_Cardiologist_Specialist',\n",
       "  'Multan',\n",
       "  'https://thumbs.dreamstime.com/b/smiling-young-handsome-professional-male-doctor-looking-distance-glasses-white-coat-standing-indoors-folded-arms-210579226.jpg'],\n",
       " ['Dr Faria',\n",
       "  'Female',\n",
       "  84,\n",
       "  3366545120,\n",
       "  'MBBS_Cardiologist_Specialist',\n",
       "  'Multan',\n",
       "  'data:image/jpeg;base64,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'],\n",
       " ['Dr Kashif ',\n",
       "  'Male',\n",
       "  68,\n",
       "  3366585874,\n",
       "  'MBBS_Cardiologist_Specialist',\n",
       "  'Islamabad',\n",
       "  'https://media.istockphoto.com/photos/pakistani-ethnicity-male-doctor-looking-away-outdoors-picture-id182709887']]"
      ]
     },
     "execution_count": 38,
     "metadata": {},
     "output_type": "execute_result"
    }
   ],
   "source": [
    "recommendation('Multan')"
   ]
  },
  {
   "cell_type": "code",
   "execution_count": 309,
   "id": "8c1f512b",
   "metadata": {},
   "outputs": [
    {
     "data": {
      "text/plain": [
       "['./../savedModels/recommendation.joblib']"
      ]
     },
     "execution_count": 309,
     "metadata": {},
     "output_type": "execute_result"
    }
   ],
   "source": [
    "dump(df, './../savedModels/df.joblib')\n",
    "dump( similarity_score,'./../savedModels/similarityscore.joblib')\n",
    "dump( similarity,'./../savedModels/similarity.joblib')\n",
    "\n",
    "dump( close_match,'./../savedModels/close_match.joblib')\n",
    "dump( index_of_the_doctor,'./../savedModels/index_of_the_doctor.joblib')\n",
    "dump( sorted_similar_location,'./../savedModels/sorted_similar_location.joblib')\n",
    "dump( list_of_all_location,'./../savedModels/list_of_all_location.joblib')\n",
    "dump( finding_close_match,'./../savedModels/finding_close_match.joblib')\n",
    "dump( recommendation ,'./../savedModels/recommendation.joblib')\n"
   ]
  },
  {
   "cell_type": "code",
   "execution_count": null,
   "metadata": {},
   "outputs": [],
   "source": []
  },
  {
   "cell_type": "code",
   "execution_count": null,
   "id": "3523b066",
   "metadata": {},
   "outputs": [],
   "source": []
  }
 ],
 "metadata": {
  "interpreter": {
   "hash": "745d9045854dd84a9b804f0381d081066de8e156205710eeb9a8e57d0f3a1981"
  },
  "kernelspec": {
   "display_name": "Python 3.9.7 ('base')",
   "language": "python",
   "name": "python3"
  },
  "language_info": {
   "codemirror_mode": {
    "name": "ipython",
    "version": 3
   },
   "file_extension": ".py",
   "mimetype": "text/x-python",
   "name": "python",
   "nbconvert_exporter": "python",
   "pygments_lexer": "ipython3",
   "version": "3.9.7"
  }
 },
 "nbformat": 4,
 "nbformat_minor": 5
}
